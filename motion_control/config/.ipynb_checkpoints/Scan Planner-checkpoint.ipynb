{
 "cells": [
  {
   "cell_type": "code",
   "execution_count": 19,
   "metadata": {},
   "outputs": [],
   "source": [
    "import math\n",
    "import numpy as np"
   ]
  },
  {
   "cell_type": "code",
   "execution_count": 33,
   "metadata": {},
   "outputs": [],
   "source": [
    "central = [0.232082, -1.27474, 2.06993]\n",
    "theta = 130.701\n",
    "scan_offset = 0.10\n",
    "scan_distance = 0.08"
   ]
  },
  {
   "cell_type": "code",
   "execution_count": 15,
   "metadata": {},
   "outputs": [
    {
     "name": "stdout",
     "output_type": "stream",
     "text": [
      "(130.701, 0.232082, -1.2832209055317263, 1.9571112327608478, 0.232082, -1.1619212327608481, 2.0614490944682733)\n"
     ]
    }
   ],
   "source": [
    "theta_tmp = ( theta - 90.0 ) / 180.0 * math.pi;\n",
    "\n",
    "x_tmp = central [0];\n",
    "y_tmp = central [1] + scan_offset * math.sin ( theta_tmp );\n",
    "z_tmp = central [2] - scan_offset * math.cos ( theta_tmp );\n",
    "x_s = x_tmp;\n",
    "y_s = y_tmp - scan_distance * math.cos ( theta_tmp );\n",
    "z_s = z_tmp - scan_distance * math.sin ( theta_tmp );\n",
    "x_e = x_tmp;\n",
    "y_e = y_tmp + scan_distance * math.cos ( theta_tmp );\n",
    "z_e = z_tmp + scan_distance * math.sin ( theta_tmp );\n",
    "\n",
    "print ( theta, x_s, y_s, z_s, x_e, y_e, z_e)"
   ]
  },
  {
   "cell_type": "code",
   "execution_count": 36,
   "metadata": {},
   "outputs": [
    {
     "name": "stdout",
     "output_type": "stream",
     "text": [
      "(0.241133, -1.394046163567141, 1.9326572954817987)\n"
     ]
    }
   ],
   "source": [
    "a = np.array( [0.246571, -1.58283, 1.56729] )\n",
    "b = np.array( [0.246571, -1.48607, 1.69472] )\n",
    "c = (a + b) / 2\n",
    "print ( c[0], c[1] - scan_offset * math.sin ( theta_tmp ), c[2] + scan_offset * math.cos ( theta_tmp ))"
   ]
  },
  {
   "cell_type": "code",
   "execution_count": null,
   "metadata": {},
   "outputs": [],
   "source": []
  }
 ],
 "metadata": {
  "kernelspec": {
   "display_name": "Python 2",
   "language": "python",
   "name": "python2"
  },
  "language_info": {
   "codemirror_mode": {
    "name": "ipython",
    "version": 2
   },
   "file_extension": ".py",
   "mimetype": "text/x-python",
   "name": "python",
   "nbconvert_exporter": "python",
   "pygments_lexer": "ipython2",
   "version": "2.7.12"
  }
 },
 "nbformat": 4,
 "nbformat_minor": 2
}
