{
 "cells": [
  {
   "cell_type": "code",
   "execution_count": 7,
   "metadata": {},
   "outputs": [],
   "source": [
    "import math\n",
    "import numpy as np"
   ]
  },
  {
   "cell_type": "code",
   "execution_count": 16,
   "metadata": {},
   "outputs": [],
   "source": [
    "central = [0.2428, -1.40279, 1.95973]\n",
    "theta = 136.829\n",
    "scan_offset = 0.09\n",
    "scan_distance_1 = 0.20\n",
    "scan_distance_2 = -0.06"
   ]
  },
  {
   "cell_type": "code",
   "execution_count": 17,
   "metadata": {},
   "outputs": [
    {
     "name": "stdout",
     "output_type": "stream",
     "text": [
      "(136.829, 0.2428, -1.4739872595151517, 1.7522909722411617, 0.2428, -1.3782023319437253, 1.8543950742652064)\n"
     ]
    }
   ],
   "source": [
    "theta_tmp = ( theta - 90.0 ) / 180.0 * math.pi;\n",
    "\n",
    "x_tmp = central [0];\n",
    "y_tmp = central [1] + scan_offset * math.sin ( theta_tmp );\n",
    "z_tmp = central [2] - scan_offset * math.cos ( theta_tmp );\n",
    "scan_distance = scan_distance_1\n",
    "x_s = x_tmp;\n",
    "y_s = y_tmp - scan_distance * math.cos ( theta_tmp );\n",
    "z_s = z_tmp - scan_distance * math.sin ( theta_tmp );\n",
    "scan_distance = scan_distance_2 \n",
    "x_e = x_tmp;\n",
    "y_e = y_tmp + scan_distance * math.cos ( theta_tmp );\n",
    "z_e = z_tmp + scan_distance * math.sin ( theta_tmp );\n",
    "\n",
    "print ( theta, x_s, y_s, z_s, x_e, y_e, z_e)"
   ]
  },
  {
   "cell_type": "code",
   "execution_count": 39,
   "metadata": {},
   "outputs": [
    {
     "name": "stdout",
     "output_type": "stream",
     "text": [
      "(0.246571, -1.5996611635671412, 1.7068172954817988)\n"
     ]
    }
   ],
   "source": [
    "a = np.array( [0.246571, -1.58283, 1.56729] )\n",
    "b = np.array( [0.246571, -1.48607, 1.69472] )\n",
    "c = (a + b) / 2\n",
    "print ( c[0], c[1] - scan_offset * math.sin ( theta_tmp ), c[2] + scan_offset * math.cos ( theta_tmp ))"
   ]
  },
  {
   "cell_type": "markdown",
   "metadata": {},
   "source": [
    "Test for transformation"
   ]
  },
  {
   "cell_type": "code",
   "execution_count": 9,
   "metadata": {},
   "outputs": [
    {
     "name": "stdout",
     "output_type": "stream",
     "text": [
      "[[-0.0186231  -0.708675    0.70529    -2.38854   ]\n",
      " [-0.999794    0.0188989  -0.00740985  0.278318  ]\n",
      " [-0.00807802 -0.705283   -0.708881    0.269597  ]\n",
      " [ 0.          0.          0.          1.        ]]\n",
      "[[ 1  0  0  0]\n",
      " [ 0 -1  0  0]\n",
      " [ 0  0 -1  0]\n",
      " [ 0  0  0  1]]\n",
      "[[-1  0  0  0]\n",
      " [ 0 -1  0  0]\n",
      " [ 0  0  1  0]\n",
      " [ 0  0  0  1]]\n"
     ]
    }
   ],
   "source": [
    "a =  np.matrix( [[-0.0186231, -0.708675, 0.70529, -2.38854],\n",
    "                 [-0.999794, 0.0188989, -0.00740985, 0.278318], \n",
    "                 [-0.00807802, -0.705283, -0.708881, 0.269597],\n",
    "                 [0, 0, 0, 1]])\n",
    "print (a)\n",
    "b =  np.matrix( [[1,  0, 0, 0],\n",
    "                 [0, -1, 0, 0], \n",
    "                 [0, 0, -1, 0],\n",
    "                 [0, 0, 0, 1]])\n",
    "print (b)\n",
    "c =  np.matrix( [[-1,  0, 0, 0],\n",
    "                 [0, -1, 0, 0], \n",
    "                 [0, 0, 1, 0],\n",
    "                 [0, 0, 0, 1]])\n",
    "print (c)"
   ]
  },
  {
   "cell_type": "code",
   "execution_count": 10,
   "metadata": {},
   "outputs": [
    {
     "name": "stdout",
     "output_type": "stream",
     "text": [
      "0.0186231\n",
      "[[-0.0186231  -0.708675    0.70529    -2.38854   ]\n",
      " [ 0.999794   -0.0188989   0.00740985 -0.278318  ]\n",
      " [ 0.00807802  0.705283    0.708881   -0.269597  ]\n",
      " [ 0.          0.          0.          1.        ]]\n",
      "[[ 0.0186231   0.708675   -0.70529     2.38854   ]\n",
      " [-0.999794    0.0188989  -0.00740985  0.278318  ]\n",
      " [ 0.00807802  0.705283    0.708881   -0.269597  ]\n",
      " [ 0.          0.          0.          1.        ]]\n"
     ]
    }
   ],
   "source": [
    "print ( np.min( np.abs ( a[0, 0:3] ) ) )\n",
    "if np.abs ( a[0, 0] ) == np.min ( np.abs ( a[0, 0:3] ) ) and a[0, 1] < 0 and a[0, 2] > 0:\n",
    "    print ( b * a )\n",
    "    print ( c * b * a )"
   ]
  },
  {
   "cell_type": "code",
   "execution_count": null,
   "metadata": {},
   "outputs": [],
   "source": []
  }
 ],
 "metadata": {
  "kernelspec": {
   "display_name": "Python 2",
   "language": "python",
   "name": "python2"
  },
  "language_info": {
   "codemirror_mode": {
    "name": "ipython",
    "version": 2
   },
   "file_extension": ".py",
   "mimetype": "text/x-python",
   "name": "python",
   "nbconvert_exporter": "python",
   "pygments_lexer": "ipython2",
   "version": "2.7.12"
  }
 },
 "nbformat": 4,
 "nbformat_minor": 2
}
