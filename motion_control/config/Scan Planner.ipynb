{
 "cells": [
  {
   "cell_type": "code",
   "execution_count": 2,
   "metadata": {},
   "outputs": [],
   "source": [
    "import math\n",
    "import numpy as np"
   ]
  },
  {
   "cell_type": "code",
   "execution_count": 12,
   "metadata": {},
   "outputs": [],
   "source": [
    "central = [0.24087, -1.52128, 1.84274]\n",
    "theta = 140.0\n",
    "scan_offset = 0.10\n",
    "scan_distance_1 = 0.06\n",
    "scan_distance_2 = 0.10"
   ]
  },
  {
   "cell_type": "code",
   "execution_count": 16,
   "metadata": {},
   "outputs": [
    {
     "name": "stdout",
     "output_type": "stream",
     "text": [
      "(140.0, 0.24087, -1.4832428122692944, 1.7324985724442075, 0.24087, -1.3803967947194482, 1.855065683343244)\n"
     ]
    }
   ],
   "source": [
    "theta_tmp = ( theta - 90.0 ) / 180.0 * math.pi;\n",
    "\n",
    "x_tmp = central [0];\n",
    "y_tmp = central [1] + scan_offset * math.sin ( theta_tmp );\n",
    "z_tmp = central [2] - scan_offset * math.cos ( theta_tmp );\n",
    "scan_distance = scan_distance_1\n",
    "x_s = x_tmp;\n",
    "y_s = y_tmp - scan_distance * math.cos ( theta_tmp );\n",
    "z_s = z_tmp - scan_distance * math.sin ( theta_tmp );\n",
    "scan_distance = scan_distance_2 \n",
    "x_e = x_tmp;\n",
    "y_e = y_tmp + scan_distance * math.cos ( theta_tmp );\n",
    "z_e = z_tmp + scan_distance * math.sin ( theta_tmp );\n",
    "\n",
    "print ( theta, x_s, y_s, z_s, x_e, y_e, z_e)"
   ]
  },
  {
   "cell_type": "code",
   "execution_count": 39,
   "metadata": {},
   "outputs": [
    {
     "name": "stdout",
     "output_type": "stream",
     "text": [
      "(0.246571, -1.5996611635671412, 1.7068172954817988)\n"
     ]
    }
   ],
   "source": [
    "a = np.array( [0.246571, -1.58283, 1.56729] )\n",
    "b = np.array( [0.246571, -1.48607, 1.69472] )\n",
    "c = (a + b) / 2\n",
    "print ( c[0], c[1] - scan_offset * math.sin ( theta_tmp ), c[2] + scan_offset * math.cos ( theta_tmp ))"
   ]
  },
  {
   "cell_type": "code",
   "execution_count": null,
   "metadata": {},
   "outputs": [],
   "source": []
  }
 ],
 "metadata": {
  "kernelspec": {
   "display_name": "Python 2",
   "language": "python",
   "name": "python2"
  },
  "language_info": {
   "codemirror_mode": {
    "name": "ipython",
    "version": 2
   },
   "file_extension": ".py",
   "mimetype": "text/x-python",
   "name": "python",
   "nbconvert_exporter": "python",
   "pygments_lexer": "ipython2",
   "version": "2.7.12"
  }
 },
 "nbformat": 4,
 "nbformat_minor": 2
}
